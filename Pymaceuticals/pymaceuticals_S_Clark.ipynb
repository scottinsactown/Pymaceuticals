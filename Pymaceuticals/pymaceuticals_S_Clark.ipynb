{
 "cells": [
  {
   "cell_type": "code",
   "execution_count": 1,
   "metadata": {},
   "outputs": [
    {
     "data": {
      "text/html": [
       "<div>\n",
       "<style scoped>\n",
       "    .dataframe tbody tr th:only-of-type {\n",
       "        vertical-align: middle;\n",
       "    }\n",
       "\n",
       "    .dataframe tbody tr th {\n",
       "        vertical-align: top;\n",
       "    }\n",
       "\n",
       "    .dataframe thead th {\n",
       "        text-align: right;\n",
       "    }\n",
       "</style>\n",
       "<table border=\"1\" class=\"dataframe\">\n",
       "  <thead>\n",
       "    <tr style=\"text-align: right;\">\n",
       "      <th></th>\n",
       "      <th>Mouse ID</th>\n",
       "      <th>Drug</th>\n",
       "      <th>Timepoint</th>\n",
       "      <th>Tumor Volume (mm3)</th>\n",
       "      <th>Metastatic Sites</th>\n",
       "    </tr>\n",
       "  </thead>\n",
       "  <tbody>\n",
       "    <tr>\n",
       "      <td>0</td>\n",
       "      <td>q119</td>\n",
       "      <td>Ketapril</td>\n",
       "      <td>0</td>\n",
       "      <td>45.000000</td>\n",
       "      <td>0</td>\n",
       "    </tr>\n",
       "    <tr>\n",
       "      <td>1</td>\n",
       "      <td>q119</td>\n",
       "      <td>Ketapril</td>\n",
       "      <td>5</td>\n",
       "      <td>47.864440</td>\n",
       "      <td>0</td>\n",
       "    </tr>\n",
       "    <tr>\n",
       "      <td>2</td>\n",
       "      <td>q119</td>\n",
       "      <td>Ketapril</td>\n",
       "      <td>10</td>\n",
       "      <td>51.236606</td>\n",
       "      <td>0</td>\n",
       "    </tr>\n",
       "    <tr>\n",
       "      <td>3</td>\n",
       "      <td>n923</td>\n",
       "      <td>Ketapril</td>\n",
       "      <td>0</td>\n",
       "      <td>45.000000</td>\n",
       "      <td>0</td>\n",
       "    </tr>\n",
       "    <tr>\n",
       "      <td>4</td>\n",
       "      <td>n923</td>\n",
       "      <td>Ketapril</td>\n",
       "      <td>5</td>\n",
       "      <td>45.824881</td>\n",
       "      <td>0</td>\n",
       "    </tr>\n",
       "  </tbody>\n",
       "</table>\n",
       "</div>"
      ],
      "text/plain": [
       "  Mouse ID      Drug  Timepoint  Tumor Volume (mm3)  Metastatic Sites\n",
       "0     q119  Ketapril          0           45.000000                 0\n",
       "1     q119  Ketapril          5           47.864440                 0\n",
       "2     q119  Ketapril         10           51.236606                 0\n",
       "3     n923  Ketapril          0           45.000000                 0\n",
       "4     n923  Ketapril          5           45.824881                 0"
      ]
     },
     "execution_count": 1,
     "metadata": {},
     "output_type": "execute_result"
    }
   ],
   "source": [
    "# Dependencies and setup\n",
    "%matplotlib inline\n",
    "import matplotlib.pyplot as plt\n",
    "import pandas as pd\n",
    "import numpy as np\n",
    "import matplotlib.ticker as ticker\n",
    "\n",
    "# Hide warning messages in notebook\n",
    "import warnings\n",
    "warnings.filterwarnings('ignore')\n",
    "\n",
    "# Load and read data files\n",
    "mouse_drug_data_to_load = \"data/mouse_drug_data.csv\"\n",
    "clinical_trial_data_to_load = \"data/clinicaltrial_data.csv\"\n",
    "df_mouse = pd.read_csv(mouse_drug_data_to_load)\n",
    "df_trial = pd.read_csv(clinical_trial_data_to_load)\n",
    "\n",
    "# Limit data to only these treatments: Capomulin, Infubinol, Ketapril, and Placebo\n",
    "df_mouse = df_mouse.drop(df_mouse[(df_mouse.Drug == 'Stelasyn') | \n",
    "                                  (df_mouse.Drug == 'Naftisol')| \n",
    "                                  (df_mouse.Drug == 'Ceftamin')| \n",
    "                                  (df_mouse.Drug == 'Propriva') | \n",
    "                                  (df_mouse.Drug == 'Zoniferol')| \n",
    "                                  (df_mouse.Drug == 'Ramicane')].index)\n",
    "\n",
    "# Combine the data into a single dataset\n",
    "df = df_mouse.merge(df_trial,on='Mouse ID')\n",
    "df.head()"
   ]
  },
  {
   "cell_type": "markdown",
   "metadata": {},
   "source": [
    "## Tumor Response to Treatment"
   ]
  },
  {
   "cell_type": "code",
   "execution_count": 2,
   "metadata": {
    "scrolled": true
   },
   "outputs": [
    {
     "data": {
      "text/html": [
       "<div>\n",
       "<style scoped>\n",
       "    .dataframe tbody tr th:only-of-type {\n",
       "        vertical-align: middle;\n",
       "    }\n",
       "\n",
       "    .dataframe tbody tr th {\n",
       "        vertical-align: top;\n",
       "    }\n",
       "\n",
       "    .dataframe thead th {\n",
       "        text-align: right;\n",
       "    }\n",
       "</style>\n",
       "<table border=\"1\" class=\"dataframe\">\n",
       "  <thead>\n",
       "    <tr style=\"text-align: right;\">\n",
       "      <th></th>\n",
       "      <th></th>\n",
       "      <th>Tumor Volume (mm3)</th>\n",
       "      <th>Tumor Vol Sem</th>\n",
       "    </tr>\n",
       "    <tr>\n",
       "      <th>Drug</th>\n",
       "      <th>Timepoint</th>\n",
       "      <th></th>\n",
       "      <th></th>\n",
       "    </tr>\n",
       "  </thead>\n",
       "  <tbody>\n",
       "    <tr>\n",
       "      <td rowspan=\"5\" valign=\"top\">Capomulin</td>\n",
       "      <td>0</td>\n",
       "      <td>45.000000</td>\n",
       "      <td>0.000000</td>\n",
       "    </tr>\n",
       "    <tr>\n",
       "      <td>5</td>\n",
       "      <td>44.266086</td>\n",
       "      <td>0.448593</td>\n",
       "    </tr>\n",
       "    <tr>\n",
       "      <td>10</td>\n",
       "      <td>43.084291</td>\n",
       "      <td>0.702684</td>\n",
       "    </tr>\n",
       "    <tr>\n",
       "      <td>15</td>\n",
       "      <td>42.064317</td>\n",
       "      <td>0.838617</td>\n",
       "    </tr>\n",
       "    <tr>\n",
       "      <td>20</td>\n",
       "      <td>40.716325</td>\n",
       "      <td>0.909731</td>\n",
       "    </tr>\n",
       "  </tbody>\n",
       "</table>\n",
       "</div>"
      ],
      "text/plain": [
       "                     Tumor Volume (mm3)  Tumor Vol Sem\n",
       "Drug      Timepoint                                   \n",
       "Capomulin 0                   45.000000       0.000000\n",
       "          5                   44.266086       0.448593\n",
       "          10                  43.084291       0.702684\n",
       "          15                  42.064317       0.838617\n",
       "          20                  40.716325       0.909731"
      ]
     },
     "execution_count": 2,
     "metadata": {},
     "output_type": "execute_result"
    }
   ],
   "source": [
    "# Get the mean tumor volume data grouped by drug and timepoint \n",
    "drug_time_group = df.groupby(['Drug','Timepoint'])\n",
    "\n",
    "# Convert to dataframe\n",
    "df_tumor_volume = pd.DataFrame(drug_time_group['Tumor Volume (mm3)'].mean())\n",
    "df_tumor_volume.head()\n",
    "\n",
    "# Add standard error of tumor volumes to dataframe\n",
    "df_tumor_volume['Tumor Vol Sem'] = drug_time_group['Tumor Volume (mm3)'].sem()\n",
    "df_tumor_volume.head()"
   ]
  },
  {
   "cell_type": "code",
   "execution_count": 35,
   "metadata": {
    "scrolled": false
   },
   "outputs": [
    {
     "data": {
      "image/png": "[encoded data removed]",
      "text/plain": [
       "<Figure size 432x288 with 1 Axes>"
      ]
     },
     "metadata": {
      "needs_background": "light"
     },
     "output_type": "display_data"
    }
   ],
   "source": [
    "# Generate the plot with error bars\n",
    "fig, ax = plt.subplots()\n",
    "\n",
    "# Loop through the dataframe to fill out the chart\n",
    "for drug in df['Drug'].unique():\n",
    "    drug_data = df_tumor_volume.loc[drug].reset_index()\n",
    "    x_axis = drug_data.loc[:,'Timepoint'].values \n",
    "    y_axis = drug_data.loc[:,'Tumor Volume (mm3)'].values\n",
    "    std_err = drug_data.loc[:,'Tumor Vol Sem'].values \n",
    "    ax.errorbar(x_axis,y_axis,yerr=std_err,capsize=3, elinewidth=0, markeredgewidth=1,label=drug)\n",
    "\n",
    "# Chart design basics\n",
    "plt.title('Tumor Response to Treatment\\n',weight='medium')\n",
    "plt.xlabel('\\n Time (days)')\n",
    "plt.ylabel('Tumor Volume (mm3)  ',rotation=0,ha='right')\n",
    "plt.xlim(min(x_axis)-2,max(x_axis)+3.5)\n",
    "plt.ylim(min(df_tumor_volume['Tumor Volume (mm3)'])-5,max(df_tumor_volume['Tumor Volume (mm3)'])+5)\n",
    "plt.grid(axis='y',alpha=.3)\n",
    "\n",
    "#If I wanted to do a traditional legend, I would have placed it outside of the chart:\n",
    "#plt.legend(bbox_to_anchor=(1.04,1), borderaxespad=0,frameon=False)\n",
    "    \n",
    "# But I want to annotate for clearer viz\n",
    "plt.xticks(np.arange(min(df['Timepoint']), max(df['Timepoint']+2), 5.0))\n",
    "plt.annotate('Ketapril',((max(x_axis)+1.5),70.3),ha='left',color='C0',weight='bold')\n",
    "plt.annotate('Capomulin',((max(x_axis)+1.5),35),ha='left',color='C1',weight='bold')\n",
    "plt.annotate('Infubinol',((max(x_axis)+1.5),64.7),ha='left',color='C2',weight='bold')\n",
    "plt.annotate('Placebo',((max(x_axis)+1.5),67.5),ha='left',color='C3',weight='bold')\n",
    "\n",
    "# Additional viz adjustments\n",
    "ax.spines['top'].set_visible(False)\n",
    "ax.spines['right'].set_visible(False)\n",
    "ax.spines['left'].set_alpha(alpha=.3)\n",
    "ax.spines['bottom'].set_alpha(alpha=.3)\n",
    "\n",
    "# Save the figure in a way that perserves special formatting\n",
    "plt.savefig('Tumor_Vol.jpg',bbox_inches = \"tight\")\n",
    " \n",
    "# Show the Figure\n",
    "plt.show()"
   ]
  },
  {
   "cell_type": "markdown",
   "metadata": {},
   "source": [
    "## Metastatic Response to Treatment"
   ]
  },
  {
   "cell_type": "code",
   "execution_count": 4,
   "metadata": {},
   "outputs": [
    {
     "data": {
      "text/html": [
       "<div>\n",
       "<style scoped>\n",
       "    .dataframe tbody tr th:only-of-type {\n",
       "        vertical-align: middle;\n",
       "    }\n",
       "\n",
       "    .dataframe tbody tr th {\n",
       "        vertical-align: top;\n",
       "    }\n",
       "\n",
       "    .dataframe thead th {\n",
       "        text-align: right;\n",
       "    }\n",
       "</style>\n",
       "<table border=\"1\" class=\"dataframe\">\n",
       "  <thead>\n",
       "    <tr style=\"text-align: right;\">\n",
       "      <th></th>\n",
       "      <th></th>\n",
       "      <th>Metastatic Sites</th>\n",
       "      <th>Metastatic Sem</th>\n",
       "    </tr>\n",
       "    <tr>\n",
       "      <th>Drug</th>\n",
       "      <th>Timepoint</th>\n",
       "      <th></th>\n",
       "      <th></th>\n",
       "    </tr>\n",
       "  </thead>\n",
       "  <tbody>\n",
       "    <tr>\n",
       "      <td rowspan=\"5\" valign=\"top\">Capomulin</td>\n",
       "      <td>0</td>\n",
       "      <td>0.000000</td>\n",
       "      <td>0.000000</td>\n",
       "    </tr>\n",
       "    <tr>\n",
       "      <td>5</td>\n",
       "      <td>0.160000</td>\n",
       "      <td>0.074833</td>\n",
       "    </tr>\n",
       "    <tr>\n",
       "      <td>10</td>\n",
       "      <td>0.320000</td>\n",
       "      <td>0.125433</td>\n",
       "    </tr>\n",
       "    <tr>\n",
       "      <td>15</td>\n",
       "      <td>0.375000</td>\n",
       "      <td>0.132048</td>\n",
       "    </tr>\n",
       "    <tr>\n",
       "      <td>20</td>\n",
       "      <td>0.652174</td>\n",
       "      <td>0.161621</td>\n",
       "    </tr>\n",
       "  </tbody>\n",
       "</table>\n",
       "</div>"
      ],
      "text/plain": [
       "                     Metastatic Sites  Metastatic Sem\n",
       "Drug      Timepoint                                  \n",
       "Capomulin 0                  0.000000        0.000000\n",
       "          5                  0.160000        0.074833\n",
       "          10                 0.320000        0.125433\n",
       "          15                 0.375000        0.132048\n",
       "          20                 0.652174        0.161621"
      ]
     },
     "execution_count": 4,
     "metadata": {},
     "output_type": "execute_result"
    }
   ],
   "source": [
    "# Get the mean tumor volume data grouped by drug and timepoint \n",
    "df_met_mean = pd.DataFrame(drug_time_group['Metastatic Sites'].mean())\n",
    "\n",
    "# Get the standard error associated with met. sites grouped by drug and timepoint \n",
    "df_met_mean['Metastatic Sem'] = drug_time_group['Metastatic Sites'].sem()\n",
    "df_met_mean.head()"
   ]
  },
  {
   "cell_type": "code",
   "execution_count": 38,
   "metadata": {},
   "outputs": [
    {
     "data": {
      "image/png": "[encoded data removed]",
      "text/plain": [
       "<Figure size 432x288 with 1 Axes>"
      ]
     },
     "metadata": {
      "needs_background": "light"
     },
     "output_type": "display_data"
    }
   ],
   "source": [
    "# Generate the plot with error bars\n",
    "fig, ax = plt.subplots()\n",
    " \n",
    "# Loop through the dataframe to get the values for the chart\n",
    "for drug in df['Drug'].unique():\n",
    "    drug_data = df_met_mean.loc[drug].reset_index()\n",
    "    x_axis = drug_data.loc[:,'Timepoint'].values \n",
    "    y_axis = drug_data.loc[:,'Metastatic Sites'].values \n",
    "    std_err = drug_data.loc[:,'Metastatic Sem'].values \n",
    "    ax.errorbar(x_axis,y_axis,yerr=std_err,capsize=3, elinewidth=0, markeredgewidth=1,label=drug)\n",
    "\n",
    "# Chart design basics\n",
    "plt.title('Metastatic Response to Treatment\\n',weight='medium')\n",
    "plt.xlabel('\\n Time (days)')\n",
    "plt.ylabel('Metastatic Sites  ',rotation=0,ha='right')\n",
    "plt.xlim(min(x_axis)-2,max(x_axis)+2)\n",
    "plt.ylim(min(df_met_mean['Metastatic Sites']),max(df_met_mean['Metastatic Sites']+.5))\n",
    "plt.grid(axis='y',alpha=.3)\n",
    "\n",
    "#If I wanted to do a traditional legend:\n",
    "#plt.legend(bbox_to_anchor=(1.04,1), borderaxespad=0,frameon=False)\n",
    "       \n",
    "# But I want to annotate here for clearer viz\n",
    "plt.xticks(np.arange(min(df['Timepoint']), max(df['Timepoint']+2), 5.0))\n",
    "plt.annotate('Ketapril',((max(x_axis)+1.5),3.4),ha='left',color='C0',weight='bold')\n",
    "plt.annotate('Capomulin',((max(x_axis)+1.5),1.4),ha='left',color='C1',weight='bold')\n",
    "plt.annotate('Infubinol',((max(x_axis)+1.5),2),ha='left',color='C2',weight='bold')\n",
    "plt.annotate('Placebo',((max(x_axis)+1.5),3.2),ha='left',color='C3',weight='bold')\n",
    "\n",
    "# Additional clean up\n",
    "ax.spines['top'].set_visible(False)\n",
    "ax.spines['right'].set_visible(False)\n",
    "ax.spines['left'].set_alpha(alpha=.3)\n",
    "ax.spines['bottom'].set_alpha(alpha=.3)\n",
    "\n",
    "# Save the figure in a way that perserves special formatting\n",
    "plt.savefig('Metastatic_Sites.jpg',bbox_inches = \"tight\")\n",
    " \n",
    "# Show the Figure\n",
    "plt.show()"
   ]
  },
  {
   "cell_type": "markdown",
   "metadata": {},
   "source": [
    "![Metastatic Spread During Treatment](../Images/spread.png)"
   ]
  },
  {
   "cell_type": "markdown",
   "metadata": {},
   "source": [
    "## Survival Rates"
   ]
  },
  {
   "cell_type": "code",
   "execution_count": 33,
   "metadata": {},
   "outputs": [
    {
     "data": {
      "text/html": [
       "<div>\n",
       "<style scoped>\n",
       "    .dataframe tbody tr th:only-of-type {\n",
       "        vertical-align: middle;\n",
       "    }\n",
       "\n",
       "    .dataframe tbody tr th {\n",
       "        vertical-align: top;\n",
       "    }\n",
       "\n",
       "    .dataframe thead th {\n",
       "        text-align: right;\n",
       "    }\n",
       "</style>\n",
       "<table border=\"1\" class=\"dataframe\">\n",
       "  <thead>\n",
       "    <tr style=\"text-align: right;\">\n",
       "      <th></th>\n",
       "      <th></th>\n",
       "      <th>Mouse ID</th>\n",
       "      <th>Survival Rate</th>\n",
       "    </tr>\n",
       "    <tr>\n",
       "      <th>Drug</th>\n",
       "      <th>Timepoint</th>\n",
       "      <th></th>\n",
       "      <th></th>\n",
       "    </tr>\n",
       "  </thead>\n",
       "  <tbody>\n",
       "    <tr>\n",
       "      <td rowspan=\"5\" valign=\"top\">Capomulin</td>\n",
       "      <td>0</td>\n",
       "      <td>25</td>\n",
       "      <td>100.0</td>\n",
       "    </tr>\n",
       "    <tr>\n",
       "      <td>5</td>\n",
       "      <td>25</td>\n",
       "      <td>100.0</td>\n",
       "    </tr>\n",
       "    <tr>\n",
       "      <td>10</td>\n",
       "      <td>25</td>\n",
       "      <td>100.0</td>\n",
       "    </tr>\n",
       "    <tr>\n",
       "      <td>15</td>\n",
       "      <td>24</td>\n",
       "      <td>96.0</td>\n",
       "    </tr>\n",
       "    <tr>\n",
       "      <td>20</td>\n",
       "      <td>23</td>\n",
       "      <td>92.0</td>\n",
       "    </tr>\n",
       "  </tbody>\n",
       "</table>\n",
       "</div>"
      ],
      "text/plain": [
       "                     Mouse ID  Survival Rate\n",
       "Drug      Timepoint                         \n",
       "Capomulin 0                25          100.0\n",
       "          5                25          100.0\n",
       "          10               25          100.0\n",
       "          15               24           96.0\n",
       "          20               23           92.0"
      ]
     },
     "execution_count": 33,
     "metadata": {},
     "output_type": "execute_result"
    }
   ],
   "source": [
    "# Get the survival data grouped by drug and timepoint \n",
    "df_mice_num = pd.DataFrame(drug_time_group['Mouse ID'].nunique())\n",
    "df_mice_num['Survival Rate']=(df_mice_num['Mouse ID']/25*100)\n",
    "df_mice_num.head()"
   ]
  },
  {
   "cell_type": "code",
   "execution_count": 7,
   "metadata": {},
   "outputs": [
    {
     "data": {
      "text/plain": [
       "<Figure size 540x360 with 0 Axes>"
      ]
     },
     "metadata": {},
     "output_type": "display_data"
    },
    {
     "data": {
      "image/png": "[encoded data removed]",
      "text/plain": [
       "<Figure size 432x288 with 1 Axes>"
      ]
     },
     "metadata": {
      "needs_background": "light"
     },
     "output_type": "display_data"
    }
   ],
   "source": [
    "# Generate the plot \n",
    "fig, ax = plt.subplots()\n",
    " \n",
    "# Loop through the dataframe to get the values for the chart\n",
    "for drug in df['Drug'].unique():\n",
    "    drug_data = df_mice_num.loc[drug].reset_index()\n",
    "    x_axis = drug_data.loc[:,'Timepoint'].values \n",
    "    y_axis = drug_data.loc[:,'Survival Rate'].values \n",
    "    ax.errorbar(x_axis,y_axis, capsize=3, elinewidth=0, markeredgewidth=1,label=drug) #yerr=std_err,\n",
    "\n",
    "# Chart design basics\n",
    "plt.title('Survival During Treatment\\n',weight='medium')\n",
    "plt.xlabel('\\n Time (days)')\n",
    "plt.ylabel('Survival Rate  ',rotation=0,ha='right')\n",
    "plt.xlim(min(x_axis)-2,max(x_axis)+2)\n",
    "plt.ylim(min(df_mice_num['Survival Rate']-5),max(df_mice_num['Survival Rate']+4))\n",
    "ax.yaxis.set_major_formatter(ticker.PercentFormatter())\n",
    "plt.grid(axis='y',alpha=.3)\n",
    "\n",
    "#If I wanted to do a traditional legend:\n",
    "#plt.legend(bbox_to_anchor=(1.04,1), borderaxespad=0,frameon=False)\n",
    "\n",
    "# But I want to annotate here for clearer viz\n",
    "# **** way to automate color based on presets?\n",
    "plt.xticks(np.arange(min(df['Timepoint']), max(df['Timepoint']+2), 5.0))\n",
    "plt.annotate('Ketapril',(46.5,45),ha='left',color='C0',weight='bold')\n",
    "plt.annotate('Capomulin',(46.5,83),ha='left',color='C1',weight='bold')\n",
    "plt.annotate('Infubinol',(46.5,35),ha='left',color='C2',weight='bold')\n",
    "plt.annotate('Placebo',(46.5,41),ha='left',color='C3',weight='bold')\n",
    "\n",
    "# Additional clean up\n",
    "ax.spines['top'].set_visible(False)\n",
    "ax.spines['right'].set_visible(False)\n",
    "ax.spines['left'].set_alpha(alpha=.3)\n",
    "ax.spines['bottom'].set_alpha(alpha=.3)\n",
    "\n",
    "# Save the figure in a way that perserves special formatting\n",
    "plt.savefig('Survival_Rate.jpg',bbox_inches = \"tight\")\n",
    " \n",
    "# Show the Figure\n",
    "plt.show()"
   ]
  },
  {
   "cell_type": "markdown",
   "metadata": {},
   "source": [
    "## Summary Bar Graph"
   ]
  },
  {
   "cell_type": "code",
   "execution_count": 52,
   "metadata": {},
   "outputs": [
    {
     "data": {
      "image/png": "[encoded data removed]",
      "text/plain": [
       "<Figure size 432x288 with 1 Axes>"
      ]
     },
     "metadata": {},
     "output_type": "display_data"
    }
   ],
   "source": [
    "# Calculate the percent changes for each drug  \n",
    "tumor_change=[]\n",
    "drugs=['Capomulin', 'Infubinol', 'Ketapril', 'Placebo']\n",
    "for drug in drugs:\n",
    "    tumor_change.append((df_tumor_volume.loc[(drug,45),'Tumor Volume (mm3)']-45)/45)\n",
    "\n",
    "# Set up for bar formatting/labels  \n",
    "N = 4\n",
    "ind=np.arange(N)\n",
    "width=0.8\n",
    "fig,ax = plt.subplots()\n",
    "bar_color_data = {'values':[tumor_change[0],tumor_change[1],tumor_change[2],tumor_change[3]]}\n",
    "bar_color = pd.DataFrame(bar_color_data,columns=['values'])\n",
    "chart_num= plt.bar(drugs,tumor_change, color =(bar_color['values']<0).map({True:'g',False:'r'}))\n",
    "ax.set_yticks([])\n",
    "ax.set_xticks([])\n",
    "\n",
    "# Text labels for each bar\n",
    "def autolabel(bars):\n",
    "    count=0\n",
    "    for bar in bars:\n",
    "        height = bar.get_height()\n",
    "        ax.text(bar. get_x() + bar.get_width()/2., .7*height,\n",
    "                ((drugs[count])+'\\n'+str(int(height*100))+'%'),color=\"w\",weight='bold',\n",
    "                ha='center', va='bottom')\n",
    "        count +=1\n",
    "autolabel(chart_num)\n",
    "\n",
    "# Additional chart elements and formatting\n",
    "plt.title('Tumor Volume Change Over 45 Day Treament')\n",
    "ax.spines['top'].set_visible(False)\n",
    "ax.spines['right'].set_visible(False)\n",
    "ax.spines['left'].set_alpha(False)\n",
    "ax.spines['bottom'].set_alpha(False)\n",
    "ax.axhline(0, color ='k',alpha=.5)\n",
    "\n",
    "# Save the figure in a way that perserves special formatting\n",
    "plt.savefig('Summary.jpg',bbox_inches = \"tight\")\n",
    "\n",
    "# Show the plot\n",
    "plt.show()"
   ]
  },
  {
   "cell_type": "code",
   "execution_count": 9,
   "metadata": {},
   "outputs": [],
   "source": [
    "# See document \"Tumor_Treatment_Assessment_S_Clark\" for analysis of data. "
   ]
  }
 ],
 "metadata": {
  "anaconda-cloud": {},
  "kernelspec": {
   "display_name": "Python 3",
   "language": "python",
   "name": "python3"
  },
  "language_info": {
   "codemirror_mode": {
    "name": "ipython",
    "version": 3
   },
   "file_extension": ".py",
   "mimetype": "text/x-python",
   "name": "python",
   "nbconvert_exporter": "python",
   "pygments_lexer": "ipython3",
   "version": "3.7.3"
  }
 },
 "nbformat": 4,
 "nbformat_minor": 1
}
